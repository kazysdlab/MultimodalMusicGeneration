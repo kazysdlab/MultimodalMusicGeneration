{
 "cells": [
  {
   "cell_type": "code",
   "execution_count": 7,
   "id": "0b548b68",
   "metadata": {},
   "outputs": [],
   "source": [
    "import torch\n",
    "import clip\n",
    "import laion_clap"
   ]
  },
  {
   "cell_type": "code",
   "execution_count": 8,
   "id": "e4ebcea0",
   "metadata": {},
   "outputs": [
    {
     "name": "stdout",
     "output_type": "stream",
     "text": [
      "False\n"
     ]
    }
   ],
   "source": [
    "print(torch.cuda.is_available())"
   ]
  },
  {
   "cell_type": "code",
   "execution_count": 9,
   "id": "ed32163f",
   "metadata": {},
   "outputs": [],
   "source": [
    "import clip\n",
    "device = \"cuda\" if torch.cuda.is_available() else \"cpu\"\n",
    "model1, preprocess1 = clip.load(\"ViT-B/32\", device=device)"
   ]
  },
  {
   "cell_type": "code",
   "execution_count": 10,
   "id": "f1d0d15b",
   "metadata": {},
   "outputs": [
    {
     "name": "stdout",
     "output_type": "stream",
     "text": [
      "<function show_versions at 0x7fc40f8ca3b0>\n"
     ]
    }
   ],
   "source": [
    "import pandas as pd\n",
    "print(pd.show_versions)"
   ]
  },
  {
   "cell_type": "code",
   "execution_count": 13,
   "id": "1d661348",
   "metadata": {},
   "outputs": [
    {
     "name": "stdout",
     "output_type": "stream",
     "text": [
      "5521\n",
      "num: 1\n",
      "['low quality', 'sustained strings melody', 'soft female vocal', 'mellow piano melody', 'sad', 'soulful', 'ballad']\n",
      "torch.Size([1, 512])\n",
      "num: 2\n",
      "['guitar song', 'piano backing', 'simple percussion', 'relaxing melody', 'slow tempo', 'bass', 'country feel', 'instrumental', 'no voice']\n",
      "torch.Size([1, 512])\n",
      "num: 3\n",
      "['amateur recording', 'finger snipping', 'male mid range voice singing', 'reverb']\n",
      "torch.Size([1, 512])\n",
      "num: 4\n",
      "['backing track', 'jazzy', 'digital drums', 'piano', 'e-bass', 'trumpet', 'acoustic guitar', 'digital keyboard song', 'medium tempo']\n",
      "torch.Size([1, 512])\n",
      "num: 5\n",
      "['rubab instrument', 'repetitive melody on different octaves', 'no other instruments', 'plucked string instrument', 'no voice', 'instrumental', 'fast tempo']\n",
      "torch.Size([1, 512])\n",
      "num: 6\n",
      "['instrumental', 'white noise', 'female vocalisation', 'three unrelated tracks', 'electric guitar harmony', 'bass guitar', 'keyboard harmony', 'female lead vocalisation', 'keyboard harmony', 'slick drumming', 'boomy bass drops', 'male voice backup vocalisation']\n",
      "torch.Size([1, 512])\n",
      "num: 7\n",
      "['live performance', 'poor audio quality', 'ambient noises', 'school dance program', 'crowd noise', 'high gain volume', 'hissing tones', 'medium tempo', 'techno dance song', 'male singer', 'groovy bass line', 'techno dance rhythm', 'keyboard accompaniment', 'kids dancing', 'noisy crowds', 'home video', 'school program', 'noise']\n",
      "エラーが発生しました: Input ['live performance', 'poor audio quality', 'ambient noises', 'school dance program', 'crowd noise', 'high gain volume', 'hissing tones', 'medium tempo', 'techno dance song', 'male singer', 'groovy bass line', 'techno dance rhythm', 'keyboard accompaniment', 'kids dancing', 'noisy crowds', 'home video', 'school program', 'noise'] is too long for context length 77\n",
      "num: 8\n",
      "['steeldrum', 'higher register', 'amateur recording']\n",
      "torch.Size([1, 512])\n",
      "num: 9\n",
      "['pop', 'tinny wide hi hats', 'mellow piano melody', 'high pitched female vocal melody', 'sustained pulsating synth lead', 'soft female vocal', 'punchy kick', 'sustained synth bass', 'claps', 'emotional', 'sad', 'passionate']\n",
      "torch.Size([1, 512])\n",
      "num: 10\n",
      "['solo live direct input acoustic guitar strumming', 'airy suspended open chords', 'low fidelity', 'ambient sounds', 'paper shuffling']\n",
      "torch.Size([1, 512])\n",
      "num: 11\n",
      "['brass', 'double bass', 'strings', 'instrumental', 'no voice', 'percussion']\n",
      "torch.Size([1, 512])\n",
      "num: 12\n",
      "['folk music', 'rubab', 'male voice', 'slow tempo', 'emotional song', 'low quality audio', 'violin', 'accordion']\n",
      "torch.Size([1, 512])\n",
      "num: 13\n",
      "['guitarist', 'male talking', 'twang sounds', 'mediocre audio quality', 'guitar string tones', 'guitar technique', 'fretboard sounds', 'guitar demo', 'online guitar lessons', 'home music video', 'youtube tutorial', 'bas]d audio quality', 'humming noise', 'energetic', 'passionate', 'spirited okay', 'strong voice', 'ambient room noises']\n",
      "エラーが発生しました: Input ['guitarist', 'male talking', 'twang sounds', 'mediocre audio quality', 'guitar string tones', 'guitar technique', 'fretboard sounds', 'guitar demo', 'online guitar lessons', 'home music video', 'youtube tutorial', 'bas]d audio quality', 'humming noise', 'energetic', 'passionate', 'spirited okay', 'strong voice', 'ambient room noises'] is too long for context length 77\n",
      "num: 14\n",
      "['folk song', 'traditional song', 'middle eastern song', 'male voice', 'darbuka', 'oud instrument', 'moderate tempo', 'middle eastern instruments']\n",
      "torch.Size([1, 512])\n",
      "num: 15\n",
      "['low quality', 'echoing male vocal', 'acoustic strings melody', 'crowd chattering', 'wooden percussions', 'plucked strings melody', 'live performance', 'traditional', 'noisy', 'passionate']\n",
      "torch.Size([1, 512])\n",
      "num: 16\n",
      "['r&b', 'soul', 'male vocal', 'melodic singing', 'strings sample', 'strong bass', 'electronic drums', 'sensual', 'groovy', 'urban']\n",
      "torch.Size([1, 512])\n",
      "num: 17\n",
      "['male vocalist', 'medium fast tempo', 'monologue', 'background music', 'hit songs', 'retro', 'narrator', 'narration', 'documentary', 'animated singing', 'enthusiastic drumming', 'cymbal ride', 'electric guitar', 'groovy bass lines', 'rock and rock', 'classic rock and rock', 'muffled', 'blues', 'rock hits', 'vocalisation']\n",
      "エラーが発生しました: Input ['male vocalist', 'medium fast tempo', 'monologue', 'background music', 'hit songs', 'retro', 'narrator', 'narration', 'documentary', 'animated singing', 'enthusiastic drumming', 'cymbal ride', 'electric guitar', 'groovy bass lines', 'rock and rock', 'classic rock and rock', 'muffled', 'blues', 'rock hits', 'vocalisation'] is too long for context length 77\n",
      "num: 18\n",
      "['low quality', 'noisy', 'renaissance music', 'soft wooden percussions', 'mellow harmonized flute melody', 'mellow', 'soulful', 'passionate', 'emotional', 'vintage']\n",
      "torch.Size([1, 512])\n",
      "num: 19\n",
      "['hindi', 'tablas', 'shrutibox', 'bansuri flute', 'medium tempo']\n",
      "torch.Size([1, 512])\n",
      "num: 20\n",
      "['gospel music', 'poor sound quality', 'children choir', 'medium tempo', 'black gospel music', 'distorted sound quality', 'meditative', 'devotional', 'inspiring', 'motivational', 'christian contemporary music', 'steady drumming rhythm', 'groovy bass line', 'keyboard harmony', 'retro christian songs']\n",
      "torch.Size([1, 512])\n"
     ]
    }
   ],
   "source": [
    "def extract_text_from_csv(csv_path, column_name):\n",
    "    try:\n",
    "        # CSVファイルの読み込み\n",
    "        df = pd.read_csv(csv_path)\n",
    "        \n",
    "        # 指定された列のデータをリストとして取得\n",
    "        text_data_list = df[column_name].tolist()\n",
    "        print(len(text_data_list))\n",
    "        i = 1\n",
    "        # テキストデータを順に表示\n",
    "        for text_data in text_data_list[0:20]:\n",
    "            print(\"num:\",i)\n",
    "            print(text_data)\n",
    "            try:\n",
    "                text_embed = model1.encode_text(clip.tokenize(text_data).to(device))\n",
    "                #text_embed = clip.tokenize(text_data).to(device)\n",
    "                print(text_embed.shape)\n",
    "            \n",
    "            except Exception as e:\n",
    "                print(f\"エラーが発生しました: {e}\")\n",
    "            \n",
    "            i = i+1\n",
    "\n",
    "    except Exception as e:\n",
    "        print(f\"エラーが発生しました: {e}\")\n",
    "\n",
    "# 以下は使用例です\n",
    "csv_file_path = \"../Datasets/archive/musiccaps-public.csv\"\n",
    "target_column_name = \"aspect_list\"\n",
    "\n",
    "extract_text_from_csv(csv_file_path, target_column_name)\n"
   ]
  },
  {
   "cell_type": "code",
   "execution_count": null,
   "id": "389d6fd0",
   "metadata": {},
   "outputs": [],
   "source": []
  }
 ],
 "metadata": {
  "kernelspec": {
   "display_name": "Python 3 (ipykernel)",
   "language": "python",
   "name": "python3"
  },
  "language_info": {
   "codemirror_mode": {
    "name": "ipython",
    "version": 3
   },
   "file_extension": ".py",
   "mimetype": "text/x-python",
   "name": "python",
   "nbconvert_exporter": "python",
   "pygments_lexer": "ipython3",
   "version": "3.10.12"
  }
 },
 "nbformat": 4,
 "nbformat_minor": 5
}
